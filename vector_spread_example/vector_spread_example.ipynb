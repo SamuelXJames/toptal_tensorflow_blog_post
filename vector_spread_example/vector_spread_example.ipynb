{
 "cells": [
  {
   "cell_type": "code",
   "execution_count": null,
   "metadata": {
    "ExecuteTime": {
     "end_time": "2019-12-18T14:36:01.545634Z",
     "start_time": "2019-12-18T14:36:01.535096Z"
    }
   },
   "outputs": [],
   "source": [
    "def normalize_rows(mtrx):\n",
    "    assert isinstance(mtrx, np.ndarray) # Only numpy arrays as input\n",
    "    norms = np.sqrt(np.sum(mtrx * mtrx, axis=1))\n",
    "    mtrx_norm = np.repeat(norms.reshape([-1, 1]), mtrx.shape[1], axis=1)\n",
    "    return 0.999 * mtrx / mtrx_norm # 0.999 guarantees values < 1.000 which causes NaNs in tf.acos\n",
    "\n",
    "def spread_metric(tensor2d):\n",
    "    \"\"\" Assumes all rows already normalized \"\"\"\n",
    "    \n",
    "    total_tangential_force = tf.Variable(0.0)\n",
    "    for this_idx in range(tensor2d.numpy().shape[0]):\n",
    "        this_force_list = []\n",
    "        for other_idx in range(tensor2d.numpy().shape[0]):\n",
    "            if this_idx == other_idx:\n",
    "                continue\n",
    "            \n",
    "            this_vec = tensor2d[this_idx, :]\n",
    "            other_vec = tensor2d[other_idx, :]\n",
    "            diff = this_vec - other_vec\n",
    "            norm = tf.norm(diff)\n",
    "            force_vec = diff / (norm + 1e-5)**3\n",
    "            \n",
    "            this_force_list.append(force_vec)\n",
    "            \n",
    "        force_sum = tf.reduce_sum(tf.stack(this_force_list), axis=0)\n",
    "        r_dot_s = tf.tensordot(this_vec, force_sum, axes=1)\n",
    "        r_dot_r = tf.tensordot(this_vec, this_vec, axes=1)\n",
    "        radial_component = this_vec * r_dot_s / r_dot_r \n",
    "        tangent_force = tf.reduce_sum(tf.square(force_sum - radial_component))\n",
    "        total_tangential_force = total_tangential_force + tangent_force\n",
    "    \n",
    "    return total_tangential_force\n",
    " "
   ]
  },
  {
   "cell_type": "code",
   "execution_count": 2,
   "metadata": {
    "ExecuteTime": {
     "end_time": "2019-12-17T16:37:09.960258Z",
     "start_time": "2019-12-17T16:37:07.929759Z"
    }
   },
   "outputs": [
    {
     "name": "stdout",
     "output_type": "stream",
     "text": [
      "Using Python=3.7.2 (default, Mar 30 2019, 15:56:42) \n",
      "[GCC 5.4.0 20160609]\n",
      "Using Tensorflow=2.1.0\n",
      "Using Keras=2.2.4-tf\n",
      "GPU Available:  False\n"
     ]
    }
   ],
   "source": [
    "import os\n",
    "os.environ[\"CUDA_VISIBLE_DEVICES\"] = \"-1\"\n",
    "\n",
    "import tensorflow as tf\n",
    "from tensorflow import keras\n",
    "import tensorflow.keras.layers as L\n",
    "import tensorflow.keras.backend as K\n",
    "import tensorflow_probability as tfp\n",
    "import ipywidgets as widgets\n",
    "import seaborn as sns\n",
    "from IPython.display import display\n",
    "from tqdm.autonotebook import tqdm\n",
    "import numpy as np\n",
    "from mpl_toolkits.mplot3d import Axes3D\n",
    "from sklearn.model_selection import train_test_split\n",
    "%matplotlib inline\n",
    "import matplotlib.pyplot as plt\n",
    "import matplotlib.animation as animation\n",
    "import numpy as np\n",
    "import sys\n",
    "print(f'Using Python={sys.version}')\n",
    "print(f'Using Tensorflow={tf.__version__}')\n",
    "print(f'Using Keras={keras.__version__}')\n",
    "print(\"GPU Available: \", tf.test.is_gpu_available())\n"
   ]
  },
  {
   "cell_type": "code",
   "execution_count": null,
   "metadata": {
    "ExecuteTime": {
     "end_time": "2019-12-18T14:36:01.545634Z",
     "start_time": "2019-12-18T14:36:01.535096Z"
    }
   },
   "outputs": [],
   "source": [
    "   "
   ]
  },
  {
   "cell_type": "code",
   "execution_count": 68,
   "metadata": {},
   "outputs": [],
   "source": [
    "class VectorSpread:\n",
    "    def __init__(self, n_vec, dims=2):\n",
    "        self.n_vec = n_vec\n",
    "        self.vecs = np.random.normal(size=(n_vec, dims))\n",
    "        self.norm_rows_inplace()\n",
    "        self.spread_hist = []\n",
    "        self.fig, self.ax = plt.subplots(figsize=(6,6))\n",
    "    \n",
    "    \n",
    "    def norm_rows_inplace(self):\n",
    "        # 0.999 guarantees values < 1.000 which causes NaNs in tf.acos\n",
    "        self.vecs = 0.999 * keras.utils.normalize(self.vecs, axis=1)\n",
    "\n",
    "        \n",
    "    @staticmethod\n",
    "    def spread_metric(tensor2d):\n",
    "        \"\"\" Assumes all rows already normalized \"\"\"\n",
    "        angle_pairs = tf.acos(tensor2d @ tf.transpose(tensor2d))\n",
    "        disable_diag = tf.eye(tensor2d.numpy().shape[0]) * 2 * np.pi\n",
    "        return tf.reduce_min(angle_pairs + disable_diag)    \n",
    "    \n",
    "    \n",
    "    def plot_vecs(self, ax=None, title=None):\n",
    "        if ax is None:\n",
    "            ax = self.ax\n",
    "            \n",
    "        ax.set_xlim(-1.2, 1.2)\n",
    "        ax.set_ylim(-1.2, 1.2)\n",
    "        ax.set_aspect('equal')\n",
    "        ax.grid(False)\n",
    "        ax.set_xticks([])\n",
    "        ax.set_yticks([])\n",
    "        \n",
    "        if title:\n",
    "            ax.set_title(title)\n",
    "        \n",
    "        vec_xs = np.zeros(2*self.vecs.shape[0])\n",
    "        vec_ys = np.zeros(2*self.vecs.shape[0])\n",
    "        vec_xs[::2] = self.vecs[:, 0]\n",
    "        vec_ys[::2] = self.vecs[:, 1]\n",
    "        \n",
    "        lines, = ax.plot(vec_xs, vec_ys, 'b-')\n",
    "        red_pts = ax.scatter([0], [0], s=100, c='red')\n",
    "        green_pts = ax.scatter(self.vecs[:, 0], self.vecs[:, 1], s=13.3, c='green')\n",
    "            \n",
    "        return lines, red_pts, green_pts\n",
    "    \n",
    "    \n",
    "    def init_axes(self):\n",
    "        self.ax.set_xlim(-1.2, 1.2)\n",
    "        self.ax.set_ylim(-1.2, 1.2)\n",
    "        self.ax.set_aspect('equal')\n",
    "        self.ax.grid(False)\n",
    "        self.ax.set_xticks([])\n",
    "        self.ax.set_yticks([])\n",
    "        self.line_data, = self.ax.plot([],[],'b-')\n",
    "        self.red_pt_data = self.ax.scatter([0],[0], c='red', s=100)\n",
    "        self.green_pt_data = self.ax.scatter([],[], c='green', s=15)\n",
    "        return self.line_data, self.red_pt_data, self.green_pt_data\n",
    "        \n",
    "    def update_plot_data(self, i):\n",
    "        self.one_iter(i)\n",
    "        \n",
    "        vec_xs = np.zeros(2*self.vecs.shape[0])\n",
    "        vec_ys = np.zeros(2*self.vecs.shape[0])\n",
    "        vec_xs[::2] = self.vecs[:, 0]\n",
    "        vec_ys[::2] = self.vecs[:, 1]\n",
    "        \n",
    "        self.line_data.set_data(vec_xs, vec_ys)\n",
    "        self.red_pt_data.set_offsets(np.zeros(shape=(1,2), dtype='float32'))\n",
    "        self.green_pt_data.set_offsets(self.vecs)\n",
    "            \n",
    "        return self.line_data, self.red_pt_data, self.green_pt_data\n",
    "    \n",
    "    def one_iter(self, i, learning_rate=0.01):\n",
    "        self.norm_rows_inplace()\n",
    "        tfvecs = tf.convert_to_tensor(self.vecs, dtype=tf.float32)\n",
    "\n",
    "        with tf.GradientTape() as tape:\n",
    "            tfvar = tf.Variable(tfvecs)\n",
    "            spread = self.spread_metric(tfvar)\n",
    "\n",
    "        grads = tape.gradient(spread, tfvar)\n",
    "        self.vecs += learning_rate * grads.numpy()\n",
    "        self.spread_hist.append(spread.numpy())\n",
    "        self.norm_rows_inplace()\n",
    "        \n",
    "    def run_animation_code(self):\n",
    "        anim = animation.FuncAnimation(self.fig, func=self.update_plot_data, init_func=self.init_axes, frames=n_iter, interval=10)\n",
    "        anim.save('test_out.mp4')\n",
    "        \n"
   ]
  },
  {
   "cell_type": "code",
   "execution_count": 69,
   "metadata": {
    "ExecuteTime": {
     "end_time": "2019-12-18T14:36:03.831291Z",
     "start_time": "2019-12-18T14:36:01.669303Z"
    }
   },
   "outputs": [
    {
     "data": {
      "image/png": "[encoded data removed]",
      "text/plain": [
       "<Figure size 432x432 with 1 Axes>"
      ]
     },
     "metadata": {},
     "output_type": "display_data"
    }
   ],
   "source": [
    "vs = VectorSpread(20)\n",
    "n_iter = 1000\n",
    "learning_rate = 0.01\n",
    "vs.run_animation_code()\n",
    "\n"
   ]
  },
  {
   "cell_type": "code",
   "execution_count": 58,
   "metadata": {},
   "outputs": [
    {
     "name": "stdout",
     "output_type": "stream",
     "text": [
      "[ 3  4  5  6  7  8  9 10 11 12 13 14 15 16 17 18 19 20 21 22] [0 1 2 3 4 5 6 7 8 9]\n",
      "[ 0  4  1  6  2  8  3 10  4 12  5 14  6 16  7 18  8 20  9 22]\n"
     ]
    }
   ],
   "source": [
    "k = np.array(range(10))\n",
    "j = np.array(range(20)) + 3\n",
    "print(j, k)\n",
    "j[::2] = k\n",
    "print(j)"
   ]
  },
  {
   "cell_type": "code",
   "execution_count": 59,
   "metadata": {
    "ExecuteTime": {
     "end_time": "2019-12-18T14:36:03.831291Z",
     "start_time": "2019-12-18T14:36:01.669303Z"
    }
   },
   "outputs": [
    {
     "data": {
      "image/png": "[encoded data removed]",
      "text/plain": [
       "<Figure size 1152x1152 with 16 Axes>"
      ]
     },
     "metadata": {},
     "output_type": "display_data"
    }
   ],
   "source": [
    "sr,sc = 4,4\n",
    "fig,axs = plt.subplots(sr, sc, figsize=(4*sc, 4*sr))\n",
    "\n",
    "for r in range(sr):\n",
    "    for c in range(sc):\n",
    "        vs = VectorSpread(r+2)\n",
    "        spread = VectorSpread.spread_metric(tf.convert_to_tensor(vs.vecs, dtype='float32'))\n",
    "        \n",
    "        vs.plot_vecs(ax=axs[r][c], title=f'Spread={spread:.3f}')\n",
    "                \n",
    "\n"
   ]
  },
  {
   "cell_type": "code",
   "execution_count": 54,
   "metadata": {
    "ExecuteTime": {
     "end_time": "2019-12-18T14:36:03.831291Z",
     "start_time": "2019-12-18T14:36:01.669303Z"
    }
   },
   "outputs": [
    {
     "data": {
      "image/png": "[encoded data removed]",
      "text/plain": [
       "<Figure size 1296x288 with 11 Axes>"
      ]
     },
     "metadata": {},
     "output_type": "display_data"
    }
   ],
   "source": [
    "vs = VectorSpread(20)\n",
    "n_iter = 10000\n",
    "fig,axs = plt.subplots(1, 11, figsize=(18, 4))\n",
    "learning_rate = 0.01\n",
    "\n",
    "vs.plot_vecs(ax=axs[0])\n",
    "for i in range(10):\n",
    "    for j in range(n_iter//10):\n",
    "        vs.one_iter(i*10 + j, learning_rate=0.005)\n",
    "        if j == 0:\n",
    "            vs.plot_vecs(ax=axs[i+1])\n",
    "    learning_rate *= 0.2\n"
   ]
  },
  {
   "cell_type": "code",
   "execution_count": 55,
   "metadata": {},
   "outputs": [
    {
     "name": "stdout",
     "output_type": "stream",
     "text": [
      "Line2D(_line0)\n",
      "<matplotlib.collections.PathCollection object at 0x7fab28d1d390>\n",
      "<matplotlib.collections.PathCollection object at 0x7fab28d1d710>\n"
     ]
    },
    {
     "data": {
      "image/png": "[encoded data removed]",
      "text/plain": [
       "<Figure size 432x288 with 1 Axes>"
      ]
     },
     "metadata": {},
     "output_type": "display_data"
    }
   ],
   "source": [
    "for lst in vs.plot_vecs():\n",
    "    print(lst)"
   ]
  },
  {
   "cell_type": "code",
   "execution_count": null,
   "metadata": {
    "ExecuteTime": {
     "end_time": "2019-12-18T14:36:03.831291Z",
     "start_time": "2019-12-18T14:36:01.669303Z"
    }
   },
   "outputs": [],
   "source": [
    "vs = VectorSpread(20)\n",
    "n_iter = 10000\n",
    "fig,ax = plt.subplots(figsize=(7,7))\n",
    "learning_rate = 0.01\n",
    "os.makedirs('images_2d', exist_ok=True)\n",
    "\n",
    "\n",
    "vs.norm_rows_inplace()\n",
    "for j in range(n_iter+1):\n",
    "    vs.one_iter(j, learning_rate=0.01)\n",
    "    ax.clear()\n",
    "    if j % 50 == 0:\n",
    "        vs.plot_vecs(ax=ax)\n",
    "        fig.savefig(os.path.join('images_2d', f'img_{j:05d}.png'))\n",
    "        learning_rate *= 0.995\n",
    "        \n",
    "\n",
    "#anim = animation.FuncAnimation(fig, animate, frames=n_iter//10, interval=10, fargs=[vs, n_iter])\n",
    "#anim.save('test_out.mp4')"
   ]
  },
  {
   "cell_type": "code",
   "execution_count": null,
   "metadata": {},
   "outputs": [],
   "source": [
    "import imageio\n"
   ]
  },
  {
   "cell_type": "code",
   "execution_count": null,
   "metadata": {},
   "outputs": [],
   "source": []
  },
  {
   "cell_type": "code",
   "execution_count": null,
   "metadata": {},
   "outputs": [],
   "source": [
    "anim.save('test_out.mp4')"
   ]
  },
  {
   "cell_type": "code",
   "execution_count": null,
   "metadata": {},
   "outputs": [],
   "source": [
    "vecs = np.random.normal(size=(6, 3)).astype('float32')\n",
    "print(vecs)\n",
    "vecs = keras.utils.normalize(vecs, axis=1)\n",
    "vecs = keras.utils.normalize(vecs, axis=1)\n",
    "vecs = keras.utils.normalize(vecs, axis=1)\n",
    "vecs = keras.utils.normalize(vecs, axis=1)\n",
    "print(vecs, np.sum(vecs*vecs, axis=1))\n"
   ]
  },
  {
   "cell_type": "code",
   "execution_count": null,
   "metadata": {
    "ExecuteTime": {
     "end_time": "2019-12-18T14:37:48.885091Z",
     "start_time": "2019-12-18T14:37:39.011753Z"
    }
   },
   "outputs": [],
   "source": [
    "vecs = np.random.normal(size=(20, 3)).astype('float32')\n",
    "learning_rate = 0.005\n",
    "min_angle_collect = []\n",
    "eps = 0.01\n",
    "n_iter = 10000\n",
    "\n",
    "print(vecs)\n",
    "\n",
    "for i in range(n_iter):\n",
    "    #vecs = tf.linalg.normalize(vecs, axis=1)[0]\n",
    "    vecs = keras.utils.normalize(vecs, axis=1)\n",
    "    print(vecs)\n",
    "    \n",
    "    if i%(n_iter / 10) == 0:\n",
    "        # Reduce learning-rate and plot current state\n",
    "        #learning_rate *= 0.98\n",
    "        plot_vecs_3d(vecs)\n",
    "        \n",
    "\n",
    "    tfvecs = tf.convert_to_tensor(vecs, dtype=tf.float32)\n",
    "\n",
    "    with tf.GradientTape() as tape:\n",
    "        tfvar = tf.Variable(tfvecs)\n",
    "        spread = spread_metric(tfvar)\n",
    "        min_angle_collect.append(spread)\n",
    "        \n",
    "    grads = tape.gradient(spread, tfvar)\n",
    "    vecs += learning_rate * grads.numpy()\n",
    "    \n",
    "vecs = keras.utils.normalize(vecs, axis=1)"
   ]
  },
  {
   "cell_type": "code",
   "execution_count": null,
   "metadata": {
    "ExecuteTime": {
     "end_time": "2019-12-18T14:38:36.130282Z",
     "start_time": "2019-12-18T14:38:35.933583Z"
    }
   },
   "outputs": [],
   "source": [
    "fig,ax = plt.subplots(1,1, figsize=(5,4))\n",
    "ax.plot(min_angle_collect)\n",
    "ax.set_xlabel('Iterations')\n",
    "ax.set_ylabel('Minimum angle')\n",
    "ax.set_title('Maximizing the minimum angle size')\n",
    "\n"
   ]
  },
  {
   "cell_type": "code",
   "execution_count": null,
   "metadata": {},
   "outputs": [],
   "source": []
  },
  {
   "cell_type": "code",
   "execution_count": null,
   "metadata": {},
   "outputs": [],
   "source": [
    "def create_multi_cos_data(fpa_list, quad_ramp, noise_std, periods, num_pts=1000):\n",
    "    \"\"\"\n",
    "    FPA ~ (Freq, Phase, Amplitude)\n",
    "    \"\"\"\n",
    "    xs = np.linspace(0, periods*np.pi / fpa_list[0][0], num=num_pts)\n",
    "    noise = np.random.normal(0, noise_std, size=xs.shape)\n",
    "    \n",
    "    ys = quad_ramp * xs**2 + noise\n",
    "    for i in range(fpa_list.shape[0]):\n",
    "        freq, phase, ampl = fpa_list[i, :].tolist()\n",
    "        ys += ampl * np.cos(freq * xs - phase)\n",
    "    \n",
    "    return (xs, ys)"
   ]
  },
  {
   "cell_type": "code",
   "execution_count": null,
   "metadata": {},
   "outputs": [],
   "source": [
    "fpa_in = np.array([\n",
    "    [3.5, 0.0, 60],\n",
    "    [5.0, 0.0, 40],\n",
    "])\n",
    "\n",
    "xs, ys = create_multi_cos_data(fpa_in, quad_ramp=20.9, noise_std=40.0, periods=4, num_pts=2000)\n",
    "xt, yt = create_multi_cos_data(fpa_in, quad_ramp=20.9, noise_std=0.0, periods=4, num_pts=2000)\n",
    "fig, ax = plt.subplots(figsize=(15, 5))\n",
    "sns.scatterplot(xs, ys, ax=ax)"
   ]
  },
  {
   "cell_type": "code",
   "execution_count": null,
   "metadata": {},
   "outputs": [],
   "source": []
  },
  {
   "cell_type": "code",
   "execution_count": null,
   "metadata": {},
   "outputs": [],
   "source": [
    "fpa_guess = np.array([\n",
    "    [0.2,  0.0,  12.0],\n",
    "    [1.5,  0.0,   3.0],\n",
    "    #[8.0,  0.0, 100.0],\n",
    "])\n",
    "quad_ramp = 1.0\n",
    "\n",
    "domain = tf.convert_to_tensor(xs, dtype=tf.float32)\n",
    "y_data = tf.convert_to_tensor(ys, dtype=tf.float32)\n",
    "\n",
    "freq_1 = tf.Variable(2, dtype=tf.float32)\n",
    "freq_2 = tf.Variable(7, dtype=tf.float32)\n",
    "ampl_1 = tf.Variable(10, dtype=tf.float32)\n",
    "ampl_2 = tf.Variable(20, dtype=tf.float32)\n",
    "quad_coef = tf.Variable(10.0, dtype=tf.float32)\n",
    "\n",
    "losses = []\n",
    "var_vals = []\n",
    "learning_rate = 0.001\n",
    "non_equal_freq_factor = 1.0\n",
    "lr_decay = 0.999\n",
    "\n",
    "for i in range(500):\n",
    "    if i%50==0:\n",
    "        fig, axs = plt.subplots(1,2, figsize=(12,5))\n",
    "        axs[0].scatter(xs, ys)\n",
    "        axs[0].plot(xt, yt, 'r-.')\n",
    "        axs[0].set_ylim(-250,500)\n",
    "    \n",
    "    with tf.GradientTape() as tape:\n",
    "        tape.watch([freq_1, freq_2, ampl_1, ampl_2, quad_coef])\n",
    "        pred_y = ampl_1 * tf.cos(freq_1 * domain) + \\\n",
    "                 ampl_2 * tf.cos(freq_2 * domain) + \\\n",
    "                 quad_coef * tf.square(domain)\n",
    "        \n",
    "        if i%50==0:\n",
    "            axs[1].plot(xs, pred_y.numpy())\n",
    "            axs[1].set_ylim(-250,500)\n",
    "            \n",
    "        loss = tf.reduce_mean((pred_y - y_data)**2)\n",
    "        loss += non_equal_freq_factor / (freq_1 - freq_2)**2\n",
    "        \n",
    "    grads = tape.gradient(loss, [freq_1, freq_2, ampl_1, ampl_2, quad_coef])\n",
    "    \n",
    "    freq_1.assign_sub(learning_rate * grads[0])\n",
    "    freq_2.assign_sub(learning_rate * grads[1])\n",
    "    ampl_1.assign_sub(learning_rate * grads[2])\n",
    "    ampl_2.assign_sub(learning_rate * grads[3])\n",
    "    quad_coef.assign_sub(learning_rate * grads[4])\n",
    "    \n",
    "    learning_rate *= lr_decay\n",
    "    \n",
    "    losses.append(loss.numpy())\n",
    "    var_vals.append([freq_1.numpy(), freq_2.numpy(), ampl_1.numpy(), ampl_2.numpy(), quad_coef.numpy()])\n",
    "    \n",
    "        \n",
    "fig,ax = plt.subplots(figsize=(8, 5))\n",
    "ax.plot(losses)\n",
    "for pent in var_vals:\n",
    "    print(pent)\n",
    "        \n",
    "    "
   ]
  },
  {
   "cell_type": "code",
   "execution_count": null,
   "metadata": {},
   "outputs": [],
   "source": [
    "\n",
    "domain = tf.convert_to_tensor(xs, dtype=tf.float32)\n",
    "y_data = tf.convert_to_tensor(ys, dtype=tf.float32)\n",
    "\n",
    "freq_1 = tf.Variable(2, dtype=tf.float32)\n",
    "freq_2 = tf.Variable(7, dtype=tf.float32)\n",
    "ampl_1 = tf.Variable(10, dtype=tf.float32)\n",
    "ampl_2 = tf.Variable(20, dtype=tf.float32)\n",
    "quad_coef = tf.Variable(10.0, dtype=tf.float32)\n",
    "\n",
    "losses = []\n",
    "var_vals = []\n",
    "learning_rate = 0.001\n",
    "non_equal_freq_factor = 1.0\n",
    "lr_decay = 0.999\n",
    "\n",
    "for i in range(500):\n",
    "    if i%50==0:\n",
    "        fig, axs = plt.subplots(1,2, figsize=(12,5))\n",
    "        axs[0].scatter(xs, ys)\n",
    "        axs[0].plot(xt, yt, 'r-.')\n",
    "        axs[0].set_ylim(-250,500)\n",
    "    \n",
    "    with tf.GradientTape() as tape:\n",
    "        tape.watch([freq_1, freq_2, ampl_1, ampl_2, quad_coef])\n",
    "        pred_y = ampl_1 * tf.cos(freq_1 * domain) + \\\n",
    "                 ampl_2 * tf.cos(freq_2 * domain) + \\\n",
    "                 quad_coef * tf.square(domain)\n",
    "        \n",
    "        if i%50==0:\n",
    "            axs[1].plot(xs, pred_y.numpy())\n",
    "            axs[1].set_ylim(-250,500)\n",
    "            \n",
    "        loss = tf.reduce_mean((pred_y - y_data)**2)\n",
    "        loss += non_equal_freq_factor / (freq_1 - freq_2)**2\n",
    "        \n",
    "    grads = tape.gradient(loss, [freq_1, freq_2, ampl_1, ampl_2, quad_coef])\n",
    "    \n",
    "    freq_1.assign_sub(learning_rate * grads[0])\n",
    "    freq_2.assign_sub(learning_rate * grads[1])\n",
    "    ampl_1.assign_sub(learning_rate * grads[2])\n",
    "    ampl_2.assign_sub(learning_rate * grads[3])\n",
    "    quad_coef.assign_sub(learning_rate * grads[4])\n",
    "    \n",
    "    learning_rate *= lr_decay\n",
    "    \n",
    "    losses.append(loss.numpy())\n",
    "    var_vals.append([freq_1.numpy(), freq_2.numpy(), ampl_1.numpy(), ampl_2.numpy(), quad_coef.numpy()])\n",
    "    \n",
    "        \n",
    "fig,ax = plt.subplots(figsize=(8, 5))\n",
    "ax.plot(losses)\n",
    "for pent in var_vals:\n",
    "    print(pent)\n",
    "        \n",
    "    "
   ]
  },
  {
   "cell_type": "code",
   "execution_count": null,
   "metadata": {},
   "outputs": [],
   "source": [
    "fpa_guess = np.array([\n",
    "    [0.2,  0.0,  12.0],\n",
    "    [1.5,  0.0,   3.0],\n",
    "    #[8.0,  0.0, 100.0],\n",
    "])\n",
    "quad_ramp = 1.0\n",
    "\n",
    "domain = tf.convert_to_tensor(xs, dtype=tf.float32)\n",
    "y_data = tf.convert_to_tensor(ys, dtype=tf.float32)\n",
    "\n",
    "freq_1 = tf.Variable(2, dtype=tf.float32)\n",
    "freq_2 = tf.Variable(7, dtype=tf.float32)\n",
    "ampl_1 = tf.Variable(10, dtype=tf.float32)\n",
    "ampl_2 = tf.Variable(20, dtype=tf.float32)\n",
    "quad_coef = tf.Variable(10.0, dtype=tf.float32)\n",
    "\n",
    "losses = []\n",
    "var_vals = []\n",
    "learning_rate = 0.001\n",
    "non_equal_freq_factor = 1.0\n",
    "lr_decay = 0.999\n",
    "\n",
    "for i in range(500):\n",
    "    if i%50==0:\n",
    "        fig, axs = plt.subplots(1,2, figsize=(12,5))\n",
    "        axs[0].scatter(xs, ys)\n",
    "        axs[0].plot(xt, yt, 'r-.')\n",
    "        axs[0].set_ylim(-250,500)\n",
    "    \n",
    "    with tf.GradientTape() as tape:\n",
    "        tape.watch([freq_1, freq_2, ampl_1, ampl_2, quad_coef])\n",
    "        pred_y = ampl_1 * tf.cos(freq_1 * domain) + \\\n",
    "                 ampl_2 * tf.cos(freq_2 * domain) + \\\n",
    "                 quad_coef * tf.square(domain)\n",
    "        \n",
    "        if i%50==0:\n",
    "            axs[1].plot(xs, pred_y.numpy())\n",
    "            axs[1].set_ylim(-250,500)\n",
    "            \n",
    "        loss = tf.reduce_mean((pred_y - y_data)**2)\n",
    "        loss += non_equal_freq_factor / (freq_1 - freq_2)**2\n",
    "        \n",
    "    grads = tape.gradient(loss, [freq_1, freq_2, ampl_1, ampl_2, quad_coef])\n",
    "    \n",
    "    freq_1.assign_sub(learning_rate * grads[0])\n",
    "    freq_2.assign_sub(learning_rate * grads[1])\n",
    "    ampl_1.assign_sub(learning_rate * grads[2])\n",
    "    ampl_2.assign_sub(learning_rate * grads[3])\n",
    "    quad_coef.assign_sub(learning_rate * grads[4])\n",
    "    \n",
    "    #learning_rate *= lr_decay\n",
    "    \n",
    "    losses.append(loss.numpy())\n",
    "    var_vals.append([freq_1.numpy(), freq_2.numpy(), ampl_1.numpy(), ampl_2.numpy(), quad_coef.numpy()])\n",
    "    \n",
    "        \n",
    "fig,ax = plt.subplots(figsize=(8, 5))\n",
    "ax.plot(losses)\n",
    "for pent in var_vals[::5]:\n",
    "    print(pent)\n",
    "        \n",
    "    "
   ]
  },
  {
   "cell_type": "code",
   "execution_count": null,
   "metadata": {},
   "outputs": [],
   "source": []
  },
  {
   "cell_type": "code",
   "execution_count": null,
   "metadata": {},
   "outputs": [],
   "source": []
  },
  {
   "cell_type": "code",
   "execution_count": null,
   "metadata": {},
   "outputs": [],
   "source": []
  },
  {
   "cell_type": "code",
   "execution_count": null,
   "metadata": {},
   "outputs": [],
   "source": []
  },
  {
   "cell_type": "code",
   "execution_count": null,
   "metadata": {},
   "outputs": [],
   "source": [
    "fpa_guess = np.array([\n",
    "    [0.2,  0.0,  12.0],\n",
    "    [1.5,  0.0,   3.0],\n",
    "    #[8.0,  0.0, 100.0],\n",
    "])\n",
    "quad_ramp = 1.0\n",
    "\n",
    "tfvars = tf.convert_to_tensor(fpa_guess, dtype=tf.float32)\n",
    "quadvar = tf.Variable(quad_ramp)\n",
    "domain = tf.convert_to_tensor(xs, dtype=tf.float32)\n",
    "train_ys = tf.convert_to_tensor(ys, dtype=tf.float32)\n",
    "losses = []\n",
    "F,P,A = range(3)\n",
    "learning_rate = 0.1\n",
    "lr_decay = 0.995\n",
    "\n",
    "for i in range(100):\n",
    "    \n",
    "    with tf.GradientTape() as tape:\n",
    "        tape.watch(tfvars)\n",
    "        tape.watch(quadvar)\n",
    "        #tfvars[2][A] * tf.cos(tfvars[2][F] * domain - tfvars[2][P]) + \\\n",
    "        agg = tfvars[0][A] * tf.cos(tfvars[0][F] * domain - tfvars[0][P]) + \\\n",
    "              tfvars[1][A] * tf.cos(tfvars[1][F] * domain - tfvars[1][P]) + \\\n",
    "              quadvar * domain**2 \n",
    "        \n",
    "        loss = tf.reduce_mean((agg - train_ys)**2)\n",
    "        \n",
    "    losses.append(loss.numpy())\n",
    "    grads = tape.gradient(loss, [tfvars, quadvar])\n",
    "    \n",
    "    tfvars = tfvars - learning_rate * grads[0]\n",
    "    quadvar = quadvar - learning_rate * grads[1]\n",
    "    \n",
    "    learning_rate *= lr_decay\n",
    "    \n",
    "        \n",
    "fig,ax = plt.subplots(figsize=(8, 5))\n",
    "ax.plot(losses)\n",
    "        \n",
    "    "
   ]
  },
  {
   "cell_type": "code",
   "execution_count": null,
   "metadata": {},
   "outputs": [],
   "source": [
    "losses"
   ]
  },
  {
   "cell_type": "code",
   "execution_count": null,
   "metadata": {},
   "outputs": [],
   "source": []
  },
  {
   "cell_type": "code",
   "execution_count": null,
   "metadata": {},
   "outputs": [],
   "source": [
    "def create_sine_wave(freq, ampl, phase, quad_coef, noise_std, periods, num_pts=1000):\n",
    "    xs = np.linspace(0, periods * 2 * np.pi / freq, num=num_pts)\n",
    "    noise = np.random.normal(0, noise_std, size=xs.shape)\n",
    "    ys = ampl * np.cos(freq * xs - phase) + quad_coef * xs**2 + noise\n",
    "    return (xs, ys)"
   ]
  },
  {
   "cell_type": "code",
   "execution_count": null,
   "metadata": {},
   "outputs": [],
   "source": [
    "freq, ampl, phase, quad_coef = 5, 10, 0.5, 5.0\n",
    "\n",
    "xs,ys = create_sine_wave(freq, ampl, phase, quad_coef, noise_std=3.0, periods=2.5, num_pts=300)\n",
    "xt,yt = create_sine_wave(freq, ampl, phase, quad_coef, noise_std=0.0, periods=2.5, num_pts=300) # trend\n",
    "fig,ax = plt.subplots(figsize=(12,6))\n",
    "ax.scatter(xs, ys)"
   ]
  },
  {
   "cell_type": "code",
   "execution_count": null,
   "metadata": {},
   "outputs": [],
   "source": [
    "freq = tf.Variable(6, dtype=tf.float32)\n",
    "ampl = tf.Variable(16, dtype=tf.float32)\n",
    "phase = tf.Variable(0, dtype=tf.float32)\n",
    "quad_coef = tf.Variable(0.5, dtype=tf.float32)\n",
    "x_vals = tf.convert_to_tensor(xs, dtype=tf.float32)\n",
    "y_true = tf.convert_to_tensor(ys, dtype=tf.float32)\n",
    "\n",
    "losses = []\n",
    "var_vals = []\n",
    "learning_rate = 0.001\n",
    "\n",
    "for i in range(1500):\n",
    "    \n",
    "    with tf.GradientTape() as tape:\n",
    "        tape.watch([freq, ampl, phase, quad_coef])\n",
    "        y_pred = ampl * tf.cos(freq * x_vals - phase) + quad_coef * tf.square(x_vals)\n",
    "        loss = tf.reduce_mean((y_pred - y_true)**2)\n",
    "        \n",
    "        \n",
    "    grads = tape.gradient(loss, [freq, ampl, phase, quad_coef])\n",
    "    \n",
    "    freq = freq - learning_rate * grads[0]\n",
    "    ampl = ampl - learning_rate * grads[1]\n",
    "    phase = phase - learning_rate * grads[2]\n",
    "    quad_coef = quad_coef - learning_rate * grads[3]\n",
    "    \n",
    "    #learning_rate *= .9998\n",
    "    \n",
    "    losses.append(loss.numpy())\n",
    "    var_vals.append([freq.numpy(), ampl.numpy(), phase.numpy(), quad_coef.numpy()])\n",
    "    \n",
    "    if i%100==0:\n",
    "        fig,ax = plt.subplots(figsize=(9,5))\n",
    "        ax.scatter(xs, ys, s=0.3, label='Data')\n",
    "        ax.plot(xs, yt, 'r-.', linewidth=0.5, label='True Trendline')\n",
    "        ax.plot(xs, y_pred.numpy(), label='Predicted')\n",
    "        ax.set_ylim(-50,100)\n",
    "        ax.legend()\n",
    "        \n",
    "    \n",
    "        \n",
    "fig,ax = plt.subplots(figsize=(8, 5))\n",
    "ax.plot(losses)\n",
    "for pent in var_vals[::50]:\n",
    "    print(pent)"
   ]
  },
  {
   "cell_type": "code",
   "execution_count": null,
   "metadata": {},
   "outputs": [],
   "source": [
    "import numpy as np\n",
    "import matplotlib.pyplot as plt\n",
    "import matplotlib.animation as animation\n",
    "\n",
    "\n",
    "def data_gen(t=0):\n",
    "    cnt = 0\n",
    "    while cnt < 1000:\n",
    "        cnt += 1\n",
    "        t += 0.1\n",
    "        yield t, np.sin(2*np.pi*t) * np.exp(-t/10.)\n",
    "\n",
    "\n",
    "def init():\n",
    "    ax.set_ylim(-1.1, 1.1)\n",
    "    ax.set_xlim(0, 10)\n",
    "    del xdata[:]\n",
    "    del ydata[:]\n",
    "    line.set_data(xdata, ydata)\n",
    "    return line,\n",
    "\n",
    "fig, ax = plt.subplots()\n",
    "line, = ax.plot([], [], lw=2)\n",
    "ax.grid()\n",
    "xdata, ydata = [], []\n",
    "\n",
    "\n",
    "def run(data):\n",
    "    # update the data\n",
    "    t, y = data\n",
    "    xdata.append(t)\n",
    "    ydata.append(y)\n",
    "    xmin, xmax = ax.get_xlim()\n",
    "\n",
    "    if t >= xmax:\n",
    "        ax.set_xlim(xmin, 2*xmax)\n",
    "        ax.figure.canvas.draw()\n",
    "    line.set_data(xdata, ydata)\n",
    "\n",
    "    return line,\n",
    "\n",
    "ani = animation.FuncAnimation(fig, run, data_gen, blit=False, interval=10,\n",
    "                              repeat=False, init_func=init)\n",
    "plt.show()"
   ]
  },
  {
   "cell_type": "code",
   "execution_count": null,
   "metadata": {},
   "outputs": [],
   "source": [
    "ani.save('test_animation.mp4', fps=1)"
   ]
  },
  {
   "cell_type": "code",
   "execution_count": null,
   "metadata": {},
   "outputs": [],
   "source": []
  }
 ],
 "metadata": {
  "kernelspec": {
   "display_name": "venv2",
   "language": "python",
   "name": "venv2"
  },
  "language_info": {
   "codemirror_mode": {
    "name": "ipython",
    "version": 3
   },
   "file_extension": ".py",
   "mimetype": "text/x-python",
   "name": "python",
   "nbconvert_exporter": "python",
   "pygments_lexer": "ipython3",
   "version": "3.7.2"
  },
  "toc": {
   "base_numbering": 1,
   "nav_menu": {},
   "number_sections": true,
   "sideBar": true,
   "skip_h1_title": false,
   "title_cell": "Table of Contents",
   "title_sidebar": "Contents",
   "toc_cell": false,
   "toc_position": {},
   "toc_section_display": true,
   "toc_window_display": false
  },
  "varInspector": {
   "cols": {
    "lenName": 16,
    "lenType": 16,
    "lenVar": 40
   },
   "kernels_config": {
    "python": {
     "delete_cmd_postfix": "",
     "delete_cmd_prefix": "del ",
     "library": "var_list.py",
     "varRefreshCmd": "print(var_dic_list())"
    },
    "r": {
     "delete_cmd_postfix": ") ",
     "delete_cmd_prefix": "rm(",
     "library": "var_list.r",
     "varRefreshCmd": "cat(var_dic_list()) "
    }
   },
   "types_to_exclude": [
    "module",
    "function",
    "builtin_function_or_method",
    "instance",
    "_Feature"
   ],
   "window_display": false
  }
 },
 "nbformat": 4,
 "nbformat_minor": 4
}
