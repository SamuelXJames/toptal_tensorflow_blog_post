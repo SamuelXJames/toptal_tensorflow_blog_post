{
 "cells": [
  {
   "cell_type": "code",
   "execution_count": 1,
   "metadata": {
    "ExecuteTime": {
     "end_time": "2019-12-17T16:37:09.960258Z",
     "start_time": "2019-12-17T16:37:07.929759Z"
    }
   },
   "outputs": [
    {
     "name": "stderr",
     "output_type": "stream",
     "text": [
      "/home/alan/projects/venv-jupyter/lib/python3.7/site-packages/pandas/compat/__init__.py:84: UserWarning: Could not import the lzma module. Your installed Python is incomplete. Attempting to use lzma compression will result in a RuntimeError.\n",
      "  warnings.warn(msg)\n",
      "/home/alan/projects/venv-jupyter/lib/python3.7/site-packages/pandas/compat/__init__.py:84: UserWarning: Could not import the lzma module. Your installed Python is incomplete. Attempting to use lzma compression will result in a RuntimeError.\n",
      "  warnings.warn(msg)\n",
      "/home/alan/projects/venv-jupyter/lib/python3.7/site-packages/tqdm/autonotebook/__init__.py:18: TqdmExperimentalWarning: Using `tqdm.autonotebook.tqdm` in notebook mode. Use `tqdm.tqdm` instead to force console mode (e.g. in jupyter console)\n",
      "  \" (e.g. in jupyter console)\", TqdmExperimentalWarning)\n"
     ]
    },
    {
     "name": "stdout",
     "output_type": "stream",
     "text": [
      "Using Python=3.7.2 (default, Mar 30 2019, 15:56:42) \n",
      "[GCC 5.4.0 20160609]\n",
      "Using Tensorflow=2.1.0\n",
      "Using Keras=2.2.4-tf\n",
      "WARNING:tensorflow:From <ipython-input-1-a6dbda7dde7a>:24: is_gpu_available (from tensorflow.python.framework.test_util) is deprecated and will be removed in a future version.\n",
      "Instructions for updating:\n",
      "Use `tf.config.list_physical_devices('GPU')` instead.\n",
      "GPU Available:  False\n"
     ]
    }
   ],
   "source": [
    "import os\n",
    "os.environ[\"CUDA_VISIBLE_DEVICES\"] = \"-1\"\n",
    "\n",
    "import tensorflow as tf\n",
    "from tensorflow import keras\n",
    "import tensorflow.keras.layers as L\n",
    "import tensorflow.keras.backend as K\n",
    "import tensorflow_probability as tfp\n",
    "import ipywidgets as widgets\n",
    "import seaborn as sns\n",
    "from IPython.display import display\n",
    "from tqdm.autonotebook import tqdm\n",
    "import numpy as np\n",
    "from mpl_toolkits.mplot3d import Axes3D\n",
    "from sklearn.model_selection import train_test_split\n",
    "%matplotlib inline\n",
    "import matplotlib.pyplot as plt\n",
    "import matplotlib.animation as animation\n",
    "import numpy as np\n",
    "import sys\n",
    "print(f'Using Python={sys.version}')\n",
    "print(f'Using Tensorflow={tf.__version__}')\n",
    "print(f'Using Keras={keras.__version__}')\n",
    "print(\"GPU Available: \", tf.test.is_gpu_available())\n"
   ]
  },
  {
   "cell_type": "code",
   "execution_count": null,
   "metadata": {
    "ExecuteTime": {
     "end_time": "2019-12-18T14:36:01.545634Z",
     "start_time": "2019-12-18T14:36:01.535096Z"
    }
   },
   "outputs": [],
   "source": [
    "   "
   ]
  },
  {
   "cell_type": "code",
   "execution_count": 9,
   "metadata": {},
   "outputs": [],
   "source": [
    "class VectorSpreadAlgorithm:\n",
    "    def __init__(self, n_vec, dims=2, learning_rate=0.01, lr_decay=0.995, clip_norm=None):\n",
    "        self.n_vec = n_vec\n",
    "        self.vecs = np.random.normal(size=(n_vec, dims))\n",
    "        self.norm_rows_inplace()\n",
    "        self.spread_hist = []\n",
    "        self.fig, self.ax = plt.subplots(figsize=(6,6))\n",
    "        self.learning_rate = learning_rate\n",
    "        self.lr_decay = lr_decay\n",
    "        self.clip_norm = clip_norm\n",
    "    \n",
    "    \n",
    "    def norm_rows_inplace(self):\n",
    "        # 0.999 guarantees values < 1.000 which causes NaNs in tf.acos\n",
    "        self.vecs = 0.999 * keras.utils.normalize(self.vecs, axis=1)\n",
    "\n",
    "    @staticmethod\n",
    "    def spread_metric(tfvecs):\n",
    "        raise NotImplementedError('This must be overridden in derived class')\n",
    "        \n",
    "    \n",
    "    def plot_vecs(self, ax=None, title=None):\n",
    "        if ax is None:\n",
    "            ax = self.ax\n",
    "            \n",
    "        ax.set_xlim(-1.2, 1.2)\n",
    "        ax.set_ylim(-1.2, 1.2)\n",
    "        ax.set_aspect('equal')\n",
    "        ax.grid(False)\n",
    "        ax.set_xticks([])\n",
    "        ax.set_yticks([])\n",
    "        \n",
    "        if title:\n",
    "            ax.set_title(title)\n",
    "        \n",
    "        vec_xs = np.zeros(2*self.vecs.shape[0])\n",
    "        vec_ys = np.zeros(2*self.vecs.shape[0])\n",
    "        vec_xs[::2] = self.vecs[:, 0]\n",
    "        vec_ys[::2] = self.vecs[:, 1]\n",
    "        \n",
    "        lines, = ax.plot(vec_xs, vec_ys, 'b-')\n",
    "        red_pts = ax.scatter([0], [0], s=100, c='red')\n",
    "        green_pts = ax.scatter(self.vecs[:, 0], self.vecs[:, 1], s=13.3, c='green')\n",
    "            \n",
    "        return lines, red_pts, green_pts\n",
    "    \n",
    "    \n",
    "    def init_axes(self):\n",
    "        self.ax.set_xlim(-1.2, 1.2)\n",
    "        self.ax.set_ylim(-1.2, 1.2)\n",
    "        self.ax.set_aspect('equal')\n",
    "        self.ax.grid(False)\n",
    "        self.ax.set_xticks([])\n",
    "        self.ax.set_yticks([])\n",
    "        self.line_data, = self.ax.plot([],[],'b-')\n",
    "        self.red_pt_data = self.ax.scatter([0],[0], c='red', s=100)\n",
    "        self.green_pt_data = self.ax.scatter([],[], c='green', s=15)\n",
    "        return self.line_data, self.red_pt_data, self.green_pt_data\n",
    "        \n",
    "        \n",
    "    def update_plot_data(self, i):\n",
    "        self.one_iter(i)\n",
    "        \n",
    "        vec_xs = np.zeros(2*self.vecs.shape[0])\n",
    "        vec_ys = np.zeros(2*self.vecs.shape[0])\n",
    "        vec_xs[::2] = self.vecs[:, 0]\n",
    "        vec_ys[::2] = self.vecs[:, 1]\n",
    "        \n",
    "        self.line_data.set_data(vec_xs, vec_ys)\n",
    "        self.red_pt_data.set_offsets(np.zeros(shape=(1,2), dtype='float32'))\n",
    "        self.green_pt_data.set_offsets(self.vecs)\n",
    "            \n",
    "        return self.line_data, self.red_pt_data, self.green_pt_data\n",
    "    \n",
    "    \n",
    "    def one_iter(self, i):\n",
    "        self.norm_rows_inplace()\n",
    "        tfvecs = tf.convert_to_tensor(self.vecs, dtype=tf.float32)\n",
    "\n",
    "        with tf.GradientTape() as tape:\n",
    "            tape.watch(tfvecs)\n",
    "            spread = self.spread_metric(tfvecs)\n",
    "\n",
    "        grads = tape.gradient(spread, tfvecs)\n",
    "        \n",
    "        if self.clip_norm:\n",
    "            grads = tf.clip_by_norm(grads, self.clip_norm)\n",
    "            \n",
    "        self.vecs += self.learning_rate * grads.numpy()\n",
    "        self.spread_hist.append(spread.numpy())\n",
    "        self.norm_rows_inplace()\n",
    "        if (i+1) % 100 == 0:\n",
    "            self.learning_rate *= self.lr_decay\n",
    "            \n",
    "        \n",
    "    def run_animation_code(self, file_out, n_iter, interval_ms=5):\n",
    "        anim = animation.FuncAnimation(self.fig,\n",
    "                                       func=self.update_plot_data,\n",
    "                                       init_func=self.init_axes,\n",
    "                                       frames=n_iter,\n",
    "                                       interval=interval_ms,\n",
    "                                       blit=True)\n",
    "        anim.save(file_out)\n",
    "        \n"
   ]
  },
  {
   "cell_type": "code",
   "execution_count": 3,
   "metadata": {},
   "outputs": [],
   "source": [
    "class VectorSpread_MaxMinAngle(VectorSpreadAlgorithm):\n",
    "    @staticmethod\n",
    "    def spread_metric(tensor2d):\n",
    "        \"\"\"\n",
    "        This method should use tf.* methods to compute a quantity to maximize\n",
    "        Assumes all rows already normalized\n",
    "        \"\"\"\n",
    "        angle_pairs = tf.acos(tensor2d @ tf.transpose(tensor2d))\n",
    "        disable_diag = tf.eye(tensor2d.numpy().shape[0]) * 2 * np.pi\n",
    "        to_maximize = tf.reduce_min(angle_pairs + disable_diag)    \n",
    "        return to_maximize\n",
    "    "
   ]
  },
  {
   "cell_type": "code",
   "execution_count": 4,
   "metadata": {
    "ExecuteTime": {
     "end_time": "2019-12-18T14:36:03.831291Z",
     "start_time": "2019-12-18T14:36:01.669303Z"
    }
   },
   "outputs": [
    {
     "data": {
      "image/png": "[encoded data removed]",
      "text/plain": [
       "<Figure size 432x432 with 1 Axes>"
      ]
     },
     "metadata": {},
     "output_type": "display_data"
    }
   ],
   "source": [
    "vs = VectorSpread_MaxMinAngle(20, learning_rate=0.01)\n",
    "vs.run_animation_code(file_out='min_min.mp4', n_iter=5000)\n"
   ]
  },
  {
   "cell_type": "code",
   "execution_count": 5,
   "metadata": {},
   "outputs": [],
   "source": [
    "class VectorSpread_MaxMinAngle_with_Variance(VectorSpread_MaxMinAngle):\n",
    "    def spread_metric(self, tensor2d):\n",
    "        \"\"\" Assumes all rows already normalized \"\"\"\n",
    "        angle_pairs = tf.acos(tensor2d @ tf.transpose(tensor2d))\n",
    "        disable_diag = tf.eye(tensor2d.numpy().shape[0]) * 2 * np.pi\n",
    "        all_mins = tf.reduce_min(angle_pairs + disable_diag, axis=1)    \n",
    "        \n",
    "        # We want to maximize the min-min angle, as before\n",
    "        min_min = tf.reduce_min(all_mins)\n",
    "        \n",
    "        # Additionally subtract the variance of the set of minimum angles.  Our target\n",
    "        # configuration should have all vectors with the same minimum-angle neighbor.\n",
    "        avg_min = tf.reduce_mean(all_mins)\n",
    "        var_min = tf.reduce_sum(tf.square(all_mins - avg_min))\n",
    "        \n",
    "        # Use \n",
    "        coef_min = 0.7\n",
    "        coef_var = 0.3\n",
    "        to_maximize = coef_min * min_min - coef_var * var_min\n",
    "        \n",
    "        return to_maximize"
   ]
  },
  {
   "cell_type": "code",
   "execution_count": 6,
   "metadata": {},
   "outputs": [
    {
     "data": {
      "image/png": "[encoded data removed]",
      "text/plain": [
       "<Figure size 432x432 with 1 Axes>"
      ]
     },
     "metadata": {},
     "output_type": "display_data"
    }
   ],
   "source": [
    "vs = VectorSpread_MaxMinAngle_with_Variance(20, learning_rate=0.01)\n",
    "vs.run_animation_code(file_out='min_min_w_var.mp4', n_iter=5000)"
   ]
  },
  {
   "cell_type": "code",
   "execution_count": 7,
   "metadata": {},
   "outputs": [],
   "source": [
    "class VectorSpread_Force(VectorSpreadAlgorithm):\n",
    "    \n",
    "    def calc_force_a_onto_b(self, vec_a, vec_b):\n",
    "        diff = vec_b - vec_a\n",
    "        norm = tf.sqrt(tf.reduce_sum(diff**2))\n",
    "        force_vec = diff / norm**3\n",
    "\n",
    "        # Project force vector onto this vec, calculate how much is radial\n",
    "        b_dot_f = tf.tensordot(vec_b, force_vec, axes=1)\n",
    "        b_dot_b = tf.tensordot(vec_b, vec_b, axes=1)\n",
    "        radial_component =  (b_dot_f / b_dot_b) * vec_b\n",
    "\n",
    "        # Subtract radial component, calculate resulting magnitude\n",
    "        return force_vec - radial_component\n",
    "            \n",
    "    \n",
    "    def spread_metric(self, tensor2d):\n",
    "        \"\"\" Assumes all rows already normalized \"\"\"\n",
    "        n_vec = tensor2d.numpy().shape[0]\n",
    "        \n",
    "        all_force_list = []\n",
    "        for this_idx in range(n_vec):\n",
    "            \n",
    "            # Accumulate force contribution of all other vecs onto this one\n",
    "            this_force_list = []\n",
    "            \n",
    "            for other_idx in range(n_vec):\n",
    "                \n",
    "                if this_idx == other_idx:\n",
    "                    continue\n",
    "\n",
    "                this_vec = tensor2d[this_idx, :]\n",
    "                other_vec = tensor2d[other_idx, :]\n",
    "                \n",
    "                tangent_force_vec = self.calc_force_a_onto_b(other_vec, this_vec)\n",
    "                this_force_list.append(tangent_force_vec)\n",
    "            \n",
    "            # We now have a list of all N-dimensional force vecs.  Stack and sum\n",
    "            sum_tangent_forces = tf.reduce_sum(tf.stack(this_force_list))\n",
    "            this_force_magnitude = tf.sqrt(tf.reduce_sum(sum_tangent_forces**2))\n",
    "            \n",
    "            # Accumulate all magnitudes, which should all be zero at optimal solution\n",
    "            all_force_list.append(this_force_magnitude)\n",
    "            \n",
    "        # More force = less spread, so change sign (so it's still a maximization problem)\n",
    "        to_maximize = -tf.reduce_sum(tf.stack(all_force_list))\n",
    "        return to_maximize\n",
    "    \n",
    "    \n",
    "    def one_iter(self, i):\n",
    "        self.norm_rows_inplace()\n",
    "        tfvecs = tf.convert_to_tensor(self.vecs, dtype=tf.float32)\n",
    "\n",
    "        with tf.GradientTape() as tape:\n",
    "            tape.watch(tfvecs)\n",
    "            spread = self.spread_metric(tfvecs)\n",
    "\n",
    "        grads = tape.gradient(spread, tfvecs)\n",
    "        grads = tf.clip_by_norm(grads, 200.0)\n",
    "        self.vecs += self.learning_rate * grads.numpy()\n",
    "        self.spread_hist.append(spread.numpy())\n",
    "        self.norm_rows_inplace()\n",
    "        if (i+1) % 100 == 0:\n",
    "            self.learning_rate *= self.lr_decay       \n",
    "    \n"
   ]
  },
  {
   "cell_type": "code",
   "execution_count": 8,
   "metadata": {},
   "outputs": [
    {
     "data": {
      "image/png": "[encoded data removed]",
      "text/plain": [
       "<Figure size 432x432 with 1 Axes>"
      ]
     },
     "metadata": {},
     "output_type": "display_data"
    }
   ],
   "source": [
    "# This version should converge on a solution very quickly.  Use less iterations and high LR decay\n",
    "vs = VectorSpread_Force(20, learning_rate=0.001, lr_decay=0.7)\n",
    "vs.run_animation_code(file_out='force_solution_clip.mp4', n_iter=500, interval_ms=20)"
   ]
  },
  {
   "cell_type": "code",
   "execution_count": null,
   "metadata": {},
   "outputs": [],
   "source": []
  },
  {
   "cell_type": "markdown",
   "metadata": {},
   "source": [
    "-----"
   ]
  },
  {
   "cell_type": "markdown",
   "metadata": {},
   "source": [
    "-----"
   ]
  },
  {
   "cell_type": "code",
   "execution_count": null,
   "metadata": {
    "ExecuteTime": {
     "end_time": "2019-12-18T14:36:03.831291Z",
     "start_time": "2019-12-18T14:36:01.669303Z"
    }
   },
   "outputs": [],
   "source": [
    "vs = VectorSpread(20)\n",
    "n_iter = 10000\n",
    "fig,ax = plt.subplots(figsize=(7,7))\n",
    "learning_rate = 0.01\n",
    "os.makedirs('images_2d', exist_ok=True)\n",
    "\n",
    "\n",
    "vs.norm_rows_inplace()\n",
    "for j in range(n_iter+1):\n",
    "    vs.one_iter(j, learning_rate=0.01)\n",
    "    ax.clear()\n",
    "    if j % 50 == 0:\n",
    "        vs.plot_vecs(ax=ax)\n",
    "        fig.savefig(os.path.join('images_2d', f'img_{j:05d}.png'))\n",
    "        learning_rate *= 0.995\n",
    "        \n",
    "\n",
    "#anim = animation.FuncAnimation(fig, animate, frames=n_iter//10, interval=10, fargs=[vs, n_iter])\n",
    "#anim.save('test_out.mp4')"
   ]
  },
  {
   "cell_type": "code",
   "execution_count": null,
   "metadata": {},
   "outputs": [],
   "source": [
    "import imageio\n"
   ]
  },
  {
   "cell_type": "code",
   "execution_count": null,
   "metadata": {},
   "outputs": [],
   "source": []
  },
  {
   "cell_type": "code",
   "execution_count": null,
   "metadata": {},
   "outputs": [],
   "source": [
    "anim.save('test_out.mp4')"
   ]
  },
  {
   "cell_type": "code",
   "execution_count": 75,
   "metadata": {},
   "outputs": [
    {
     "name": "stdout",
     "output_type": "stream",
     "text": [
      "[[-0.6195256   0.6008991   1.0285556 ]\n",
      " [-0.7740193   1.4527676  -1.1056768 ]\n",
      " [-0.51428103  0.6062217  -1.3821576 ]\n",
      " [-1.8884108   0.64826936  0.16387096]\n",
      " [ 1.6934814   0.7927521   0.82772326]\n",
      " [ 0.20431028  1.0704391  -0.3082893 ]]\n",
      "[[-0.46140605  0.44753352  0.7660406 ]\n",
      " [-0.3903338   0.732623   -0.5575869 ]\n",
      " [-0.3225395   0.38020155 -0.86684203]\n",
      " [-0.9426511   0.3236011   0.0818006 ]\n",
      " [ 0.82816416  0.38768     0.40478197]\n",
      " [ 0.18040162  0.9451749  -0.27221286]] [1.        1.0000001 1.0000001 1.0000001 1.0000001 1.0000001]\n"
     ]
    }
   ],
   "source": [
    "vecs = np.random.normal(size=(6, 3)).astype('float32')\n",
    "print(vecs)\n",
    "vecs = keras.utils.normalize(vecs, axis=1)\n",
    "vecs = keras.utils.normalize(vecs, axis=1)\n",
    "vecs = keras.utils.normalize(vecs, axis=1)\n",
    "vecs = keras.utils.normalize(vecs, axis=1)\n",
    "print(vecs, np.sum(vecs*vecs, axis=1))\n"
   ]
  },
  {
   "cell_type": "code",
   "execution_count": null,
   "metadata": {
    "ExecuteTime": {
     "end_time": "2019-12-18T14:37:48.885091Z",
     "start_time": "2019-12-18T14:37:39.011753Z"
    }
   },
   "outputs": [],
   "source": [
    "vecs = np.random.normal(size=(20, 3)).astype('float32')\n",
    "learning_rate = 0.005\n",
    "min_angle_collect = []\n",
    "eps = 0.01\n",
    "n_iter = 10000\n",
    "\n",
    "print(vecs)\n",
    "\n",
    "for i in range(n_iter):\n",
    "    #vecs = tf.linalg.normalize(vecs, axis=1)[0]\n",
    "    vecs = keras.utils.normalize(vecs, axis=1)\n",
    "    print(vecs)\n",
    "    \n",
    "    if i%(n_iter / 10) == 0:\n",
    "        # Reduce learning-rate and plot current state\n",
    "        #learning_rate *= 0.98\n",
    "        plot_vecs_3d(vecs)\n",
    "        \n",
    "\n",
    "    tfvecs = tf.convert_to_tensor(vecs, dtype=tf.float32)\n",
    "\n",
    "    with tf.GradientTape() as tape:\n",
    "        tfvar = tf.Variable(tfvecs)\n",
    "        spread = spread_metric(tfvar)\n",
    "        min_angle_collect.append(spread)\n",
    "        \n",
    "    grads = tape.gradient(spread, tfvar)\n",
    "    vecs += learning_rate * grads.numpy()\n",
    "    \n",
    "vecs = keras.utils.normalize(vecs, axis=1)"
   ]
  },
  {
   "cell_type": "code",
   "execution_count": null,
   "metadata": {
    "ExecuteTime": {
     "end_time": "2019-12-18T14:38:36.130282Z",
     "start_time": "2019-12-18T14:38:35.933583Z"
    }
   },
   "outputs": [],
   "source": [
    "fig,ax = plt.subplots(1,1, figsize=(5,4))\n",
    "ax.plot(min_angle_collect)\n",
    "ax.set_xlabel('Iterations')\n",
    "ax.set_ylabel('Minimum angle')\n",
    "ax.set_title('Maximizing the minimum angle size')\n",
    "\n"
   ]
  },
  {
   "cell_type": "code",
   "execution_count": null,
   "metadata": {},
   "outputs": [],
   "source": []
  },
  {
   "cell_type": "code",
   "execution_count": null,
   "metadata": {},
   "outputs": [],
   "source": []
  }
 ],
 "metadata": {
  "kernelspec": {
   "display_name": "venv2",
   "language": "python",
   "name": "venv2"
  },
  "language_info": {
   "codemirror_mode": {
    "name": "ipython",
    "version": 3
   },
   "file_extension": ".py",
   "mimetype": "text/x-python",
   "name": "python",
   "nbconvert_exporter": "python",
   "pygments_lexer": "ipython3",
   "version": "3.7.2"
  },
  "toc": {
   "base_numbering": 1,
   "nav_menu": {},
   "number_sections": true,
   "sideBar": true,
   "skip_h1_title": false,
   "title_cell": "Table of Contents",
   "title_sidebar": "Contents",
   "toc_cell": false,
   "toc_position": {},
   "toc_section_display": true,
   "toc_window_display": false
  },
  "varInspector": {
   "cols": {
    "lenName": 16,
    "lenType": 16,
    "lenVar": 40
   },
   "kernels_config": {
    "python": {
     "delete_cmd_postfix": "",
     "delete_cmd_prefix": "del ",
     "library": "var_list.py",
     "varRefreshCmd": "print(var_dic_list())"
    },
    "r": {
     "delete_cmd_postfix": ") ",
     "delete_cmd_prefix": "rm(",
     "library": "var_list.r",
     "varRefreshCmd": "cat(var_dic_list()) "
    }
   },
   "types_to_exclude": [
    "module",
    "function",
    "builtin_function_or_method",
    "instance",
    "_Feature"
   ],
   "window_display": false
  }
 },
 "nbformat": 4,
 "nbformat_minor": 4
}
